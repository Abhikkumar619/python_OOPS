{
 "cells": [
  {
   "cell_type": "code",
   "execution_count": 1,
   "id": "bb7729b2-784a-4bd6-9661-6f767a33870b",
   "metadata": {},
   "outputs": [],
   "source": [
    "class pwskils:\n",
    "    def student_details(self, name, mail_id, number):\n",
    "        print(name, mail_id, number)"
   ]
  },
  {
   "cell_type": "code",
   "execution_count": 3,
   "id": "3692e20f-cb4e-45dd-b894-964a815cb1d4",
   "metadata": {},
   "outputs": [],
   "source": [
    "pw=pwskils()"
   ]
  },
  {
   "cell_type": "code",
   "execution_count": 4,
   "id": "64ad42fd-68d6-497e-b59f-5f17fcb22d2d",
   "metadata": {},
   "outputs": [
    {
     "name": "stdout",
     "output_type": "stream",
     "text": [
      "abishek 23 4242\n"
     ]
    }
   ],
   "source": [
    "pw.student_details(\"abishek\", 23,4242)"
   ]
  },
  {
   "cell_type": "code",
   "execution_count": 9,
   "id": "5ab7bf05-ea12-4cf4-bde5-54a55ca8bc77",
   "metadata": {},
   "outputs": [],
   "source": [
    "class pwskils1:\n",
    "    def student_details(self, name, mail_id, number): # this function can only accessiable by object of class.\n",
    "        print(name, mail_id, number)\n",
    "    @staticmethod\n",
    "    def mentor_class(list_of_mentor):  # this function can access by name of class\n",
    "        print(list_of_mentor)"
   ]
  },
  {
   "cell_type": "code",
   "execution_count": 10,
   "id": "c421867c-261e-466f-905d-b8a539d51be1",
   "metadata": {},
   "outputs": [
    {
     "name": "stdout",
     "output_type": "stream",
     "text": [
      "['ak', 'yk']\n"
     ]
    }
   ],
   "source": [
    "pwskils1.mentor_class(['ak','yk'])"
   ]
  },
  {
   "cell_type": "code",
   "execution_count": 11,
   "id": "c004fc65-a381-451e-9839-172ce25f9d08",
   "metadata": {},
   "outputs": [],
   "source": [
    "stu1=pwskils1()"
   ]
  },
  {
   "cell_type": "code",
   "execution_count": 12,
   "id": "b84a0c8e-703b-447c-b423-91656d64a478",
   "metadata": {},
   "outputs": [],
   "source": [
    "stu2=pwskils1()"
   ]
  },
  {
   "cell_type": "code",
   "execution_count": 21,
   "id": "f6c78eee-a4f7-4e9d-a437-cc2d455af2bd",
   "metadata": {},
   "outputs": [],
   "source": [
    "class pwskils2:\n",
    "    def student_details(self, name, mail_id, number): # this function can only accessiable by object of class.\n",
    "        print(name, mail_id, number)\n",
    "    \n",
    "    @staticmethod\n",
    "    def mentor_mail(mail_id):\n",
    "        print(mail_id)\n",
    "        \n",
    "    @staticmethod\n",
    "    def mentor_class(list_of_mentor):  # this function can access by name of class\n",
    "        pwskils2.mentor_mail([\"aky@gmail.com\", \"yks@gmail.com\"])  # here we calling static in static.\n",
    "        print(list_of_mentor)\n",
    "        \n",
    "    @classmethod\n",
    "    def class_name(cls):\n",
    "        cls.mentor_class([\"aky\", \"yzk\"]) # here we calling static in classmethod.\n",
    "    \n",
    "    def mentor(self, mentor_list):  #calling staticmethod in normal fnction.\n",
    "        print(mentor_list)\n",
    "        self.mentor_class([\"rishav\",\"sah\"])\n",
    "    \n",
    "    "
   ]
  },
  {
   "cell_type": "code",
   "execution_count": 5,
   "id": "3c4ab981-bf67-4534-9ff9-d9dc9917a401",
   "metadata": {},
   "outputs": [
    {
     "name": "stdout",
     "output_type": "stream",
     "text": [
      "['aky', 'yzk']\n"
     ]
    }
   ],
   "source": [
    "pwskils2.class_name()"
   ]
  },
  {
   "cell_type": "code",
   "execution_count": 10,
   "id": "b9e691d8-3478-4f20-a499-643af9b67713",
   "metadata": {},
   "outputs": [
    {
     "name": "stdout",
     "output_type": "stream",
     "text": [
      "['aky@gmail.com', 'yks@gmail.com']\n",
      "['aatish', 'sah']\n"
     ]
    }
   ],
   "source": [
    "\n",
    "pwskils2.mentor_class([\"aatish\", \"sah\"])"
   ]
  },
  {
   "cell_type": "code",
   "execution_count": 23,
   "id": "3391ccfc-d32b-4f6a-bed7-5aebba8e1261",
   "metadata": {},
   "outputs": [],
   "source": [
    "pw2=pwskils2()"
   ]
  },
  {
   "cell_type": "code",
   "execution_count": 24,
   "id": "664863d3-4885-476c-97d8-ef1157134bf3",
   "metadata": {},
   "outputs": [
    {
     "name": "stdout",
     "output_type": "stream",
     "text": [
      "['NAVIN']\n",
      "['aky@gmail.com', 'yks@gmail.com']\n",
      "['rishav', 'sah']\n"
     ]
    }
   ],
   "source": [
    "pw2.mentor([\"NAVIN\"])"
   ]
  },
  {
   "cell_type": "code",
   "execution_count": null,
   "id": "6476d239-ca6b-4a74-ab90-9dd66d12f19b",
   "metadata": {},
   "outputs": [],
   "source": []
  }
 ],
 "metadata": {
  "kernelspec": {
   "display_name": "Python 3 (ipykernel)",
   "language": "python",
   "name": "python3"
  },
  "language_info": {
   "codemirror_mode": {
    "name": "ipython",
    "version": 3
   },
   "file_extension": ".py",
   "mimetype": "text/x-python",
   "name": "python",
   "nbconvert_exporter": "python",
   "pygments_lexer": "ipython3",
   "version": "3.10.8"
  }
 },
 "nbformat": 4,
 "nbformat_minor": 5
}
