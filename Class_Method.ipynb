{
 "cells": [
  {
   "cell_type": "code",
   "execution_count": 1,
   "id": "8992436d-5017-4955-a4f8-194effbd6ccb",
   "metadata": {},
   "outputs": [],
   "source": [
    "class pwskils:\n",
    "    def __init__(self, name, email):\n",
    "        self.name=name\n",
    "        self.email=email\n",
    "        \n",
    "    def student_details(self):\n",
    "        print(self.name, self.email)\n",
    "        \n",
    "    "
   ]
  },
  {
   "cell_type": "code",
   "execution_count": 3,
   "id": "214b4064-0f81-46a7-ac98-c07c2d218fc3",
   "metadata": {},
   "outputs": [],
   "source": [
    "pw=pwskils(\"Abishek\", \"abisheky194@gmail.com\")"
   ]
  },
  {
   "cell_type": "code",
   "execution_count": 4,
   "id": "341ba4e6-8315-4e5e-9afd-7f4f01e8a730",
   "metadata": {},
   "outputs": [
    {
     "data": {
      "text/plain": [
       "'Abishek'"
      ]
     },
     "execution_count": 4,
     "metadata": {},
     "output_type": "execute_result"
    }
   ],
   "source": [
    "pw.name"
   ]
  },
  {
   "cell_type": "code",
   "execution_count": 5,
   "id": "e5f20f2e-965b-42f6-925e-7aaacbda4496",
   "metadata": {},
   "outputs": [
    {
     "data": {
      "text/plain": [
       "'abisheky194@gmail.com'"
      ]
     },
     "execution_count": 5,
     "metadata": {},
     "output_type": "execute_result"
    }
   ],
   "source": [
    "pw.email"
   ]
  },
  {
   "cell_type": "code",
   "execution_count": 6,
   "id": "3b0453ee-ffcf-4103-bf08-4a5f1e9d26da",
   "metadata": {},
   "outputs": [
    {
     "name": "stdout",
     "output_type": "stream",
     "text": [
      "Abishek abisheky194@gmail.com\n"
     ]
    }
   ],
   "source": [
    "pw.student_details()"
   ]
  },
  {
   "cell_type": "code",
   "execution_count": 11,
   "id": "006f3376-db5a-42a2-8c76-96aeccdc21f9",
   "metadata": {},
   "outputs": [],
   "source": [
    "class pwskils1:\n",
    "    def __init__(self, name, email):\n",
    "        self.name=name\n",
    "        self.email=email\n",
    "    @classmethod  #here this decorator work like without making a object of class we can pass value by using class name.\n",
    "    def details(cls, name, email):\n",
    "        return cls(name, email)\n",
    "        \n",
    "    def student_details(self):\n",
    "        print(self.name, self.email)\n",
    "        \n",
    "    "
   ]
  },
  {
   "cell_type": "code",
   "execution_count": 16,
   "id": "8f20e34a-f7aa-4297-a1f8-7190a0a87c1e",
   "metadata": {},
   "outputs": [
    {
     "data": {
      "text/plain": [
       "<__main__.pwskils1 at 0x7fd9e6c84310>"
      ]
     },
     "execution_count": 16,
     "metadata": {},
     "output_type": "execute_result"
    }
   ],
   "source": [
    "pwskils1.details(\"sbhik\",\"abi@gmail.com\") \n",
    "#with out creating object we can pass name and email."
   ]
  },
  {
   "cell_type": "code",
   "execution_count": 17,
   "id": "392992ba-facc-49a5-88c9-309107d41e08",
   "metadata": {},
   "outputs": [],
   "source": [
    "pw1=pwskils1.details(\"sbhik\",\"abi@gmail.com\") ##pw1 is variable here."
   ]
  },
  {
   "cell_type": "code",
   "execution_count": 18,
   "id": "7586dbc2-7942-4e59-94a0-eb151eb12ce1",
   "metadata": {},
   "outputs": [
    {
     "data": {
      "text/plain": [
       "'sbhik'"
      ]
     },
     "execution_count": 18,
     "metadata": {},
     "output_type": "execute_result"
    }
   ],
   "source": [
    "pw1.name"
   ]
  },
  {
   "cell_type": "code",
   "execution_count": 19,
   "id": "32d95e02-8a04-43ae-84cb-aeafcd309bd0",
   "metadata": {},
   "outputs": [
    {
     "data": {
      "text/plain": [
       "'abi@gmail.com'"
      ]
     },
     "execution_count": 19,
     "metadata": {},
     "output_type": "execute_result"
    }
   ],
   "source": [
    "pw1.email"
   ]
  },
  {
   "cell_type": "code",
   "execution_count": 27,
   "id": "d918420b-0a6e-4dab-9459-0b6e01407471",
   "metadata": {},
   "outputs": [],
   "source": [
    "class pwskils3:\n",
    "    \n",
    "    monbileNUm=98777777\n",
    "    \n",
    "    def __init__(self, name, email):\n",
    "        self.name=name\n",
    "        self.email=email\n",
    "    @classmethod\n",
    "    def change_mob(cls, mob_num):\n",
    "        pwskils3.monbileNUm=mob_num\n",
    "    @classmethod\n",
    "    def details(cls, name, email):\n",
    "        return cls(name, email)\n",
    "        \n",
    "    def student_details(self):\n",
    "        print(self.name, self.email,pwskils3.monbileNUm)\n",
    "        "
   ]
  },
  {
   "cell_type": "code",
   "execution_count": 24,
   "id": "dc715601-2174-44f4-8e74-078ded407490",
   "metadata": {},
   "outputs": [
    {
     "data": {
      "text/plain": [
       "98777777"
      ]
     },
     "execution_count": 24,
     "metadata": {},
     "output_type": "execute_result"
    }
   ],
   "source": [
    "pwskils3.monbileNUm"
   ]
  },
  {
   "cell_type": "code",
   "execution_count": 31,
   "id": "01b7f46f-cbba-4f46-ba0c-36e96b8b70cf",
   "metadata": {},
   "outputs": [],
   "source": [
    "pwskils3.change_mob(9810094230)"
   ]
  },
  {
   "cell_type": "code",
   "execution_count": 32,
   "id": "98611f8c-18e8-4f01-aba8-507c6a27545f",
   "metadata": {},
   "outputs": [
    {
     "data": {
      "text/plain": [
       "9810094230"
      ]
     },
     "execution_count": 32,
     "metadata": {},
     "output_type": "execute_result"
    }
   ],
   "source": [
    "pwskils3.monbileNUm"
   ]
  },
  {
   "cell_type": "code",
   "execution_count": 33,
   "id": "4d56cfe3-0361-47c8-b3c4-049aa7505aec",
   "metadata": {},
   "outputs": [],
   "source": [
    "pw_obj=pwskils3(\"abishek\", \"s@gmail.com\")"
   ]
  },
  {
   "cell_type": "code",
   "execution_count": 34,
   "id": "efa27b77-31b2-490c-a0bb-f802842a2dfc",
   "metadata": {},
   "outputs": [
    {
     "name": "stdout",
     "output_type": "stream",
     "text": [
      "abishek s@gmail.com 9810094230\n"
     ]
    }
   ],
   "source": [
    "pw_obj.student_details()"
   ]
  },
  {
   "cell_type": "code",
   "execution_count": 35,
   "id": "1629fb3d-5111-4ba3-a5b7-f564f9dd8f8b",
   "metadata": {},
   "outputs": [],
   "source": [
    "#also we can access by creating class variable not boject.\n",
    "pw3=pwskils3(\"ak\",\"ak@gmail.com\")"
   ]
  },
  {
   "cell_type": "code",
   "execution_count": 37,
   "id": "1b79e70a-7910-4037-910e-d6353881c936",
   "metadata": {},
   "outputs": [
    {
     "name": "stdout",
     "output_type": "stream",
     "text": [
      "ak ak@gmail.com 9810094230\n"
     ]
    }
   ],
   "source": [
    "pw3.student_details()"
   ]
  },
  {
   "cell_type": "code",
   "execution_count": 38,
   "id": "794ca312-21ec-49f1-aaf9-4192f7c86b2f",
   "metadata": {},
   "outputs": [],
   "source": [
    "class pwskils4:\n",
    "    \n",
    "    monbileNUm=98777777\n",
    "    \n",
    "    def __init__(self, name, email):\n",
    "        self.name=name\n",
    "        self.email=email\n",
    "    @classmethod\n",
    "    def change_mob(cls, mob_num):\n",
    "        pwskils3.monbileNUm=mob_num\n",
    "    @classmethod\n",
    "    def details(cls, name, email):\n",
    "        return cls(name, email)\n",
    "        \n",
    "    def student_details(self):\n",
    "        print(self.name, self.email,pwskils3.monbileNUm)\n",
    "        "
   ]
  },
  {
   "cell_type": "code",
   "execution_count": 39,
   "id": "ccaafe8f-12c6-44da-97b8-39ec16ade409",
   "metadata": {},
   "outputs": [],
   "source": [
    "#how to add outsider function as part of class.\n",
    "def course_details(cls, course_name):  #exteranal function\n",
    "    print(\"course name is\", course_name)\n",
    "    \n",
    "    \n",
    "    "
   ]
  },
  {
   "cell_type": "code",
   "execution_count": 40,
   "id": "1e600b34-85b7-47db-a62b-394ef32e9fc4",
   "metadata": {},
   "outputs": [],
   "source": [
    "pwskils4.course_details=classmethod(course_details) #classmethod is inbuiltfunction in python\\"
   ]
  },
  {
   "cell_type": "code",
   "execution_count": 41,
   "id": "19bb6aa4-15c6-4269-9e6c-654564851b42",
   "metadata": {},
   "outputs": [
    {
     "name": "stdout",
     "output_type": "stream",
     "text": [
      "course name is datascience\n"
     ]
    }
   ],
   "source": [
    "pwskils4.course_details(\"datascience\")"
   ]
  },
  {
   "cell_type": "code",
   "execution_count": 42,
   "id": "a66f9e29-0cf4-4dec-93b8-63b99b0307d2",
   "metadata": {},
   "outputs": [],
   "source": [
    "def mentor(cls, list_of_mentor):\n",
    "    print(list_of_mentor)"
   ]
  },
  {
   "cell_type": "code",
   "execution_count": 43,
   "id": "f44b4828-ca83-45a7-8fb4-0544bb6f2ac6",
   "metadata": {},
   "outputs": [],
   "source": [
    "pwskils4.mentor=classmethod(mentor)"
   ]
  },
  {
   "cell_type": "code",
   "execution_count": 45,
   "id": "b18bdc6d-338c-43fb-a7ee-69e517dbdf6e",
   "metadata": {},
   "outputs": [
    {
     "name": "stdout",
     "output_type": "stream",
     "text": [
      "['ak', 'yk']\n"
     ]
    }
   ],
   "source": [
    "pwskils4.mentor(['ak', 'yk'])"
   ]
  },
  {
   "cell_type": "code",
   "execution_count": 47,
   "id": "2a45e35b-890b-49a5-a8fa-412aaa8d9700",
   "metadata": {},
   "outputs": [],
   "source": [
    "# deactivate the function with in the class.\n",
    "del pwskils4.change_mob"
   ]
  },
  {
   "cell_type": "code",
   "execution_count": 48,
   "id": "2ed65ec2-974b-4af3-a06e-26bfcc452f0e",
   "metadata": {},
   "outputs": [
    {
     "ename": "AttributeError",
     "evalue": "type object 'pwskils4' has no attribute 'change_mob'",
     "output_type": "error",
     "traceback": [
      "\u001b[0;31m---------------------------------------------------------------------------\u001b[0m",
      "\u001b[0;31mAttributeError\u001b[0m                            Traceback (most recent call last)",
      "Cell \u001b[0;32mIn[48], line 1\u001b[0m\n\u001b[0;32m----> 1\u001b[0m \u001b[43mpwskils4\u001b[49m\u001b[38;5;241;43m.\u001b[39;49m\u001b[43mchange_mob\u001b[49m(\u001b[38;5;241m92222\u001b[39m)\n",
      "\u001b[0;31mAttributeError\u001b[0m: type object 'pwskils4' has no attribute 'change_mob'"
     ]
    }
   ],
   "source": [
    "pwskils4.change_mob(92222)"
   ]
  },
  {
   "cell_type": "code",
   "execution_count": 50,
   "id": "9fc3ff3b-b4fc-455f-95c1-d7d96f42dbae",
   "metadata": {},
   "outputs": [],
   "source": [
    "# another method to delect function\n",
    "delattr(pwskils4, 'details')"
   ]
  },
  {
   "cell_type": "code",
   "execution_count": 51,
   "id": "ff4ff9c9-a843-4b48-a9ca-da65c674648d",
   "metadata": {},
   "outputs": [
    {
     "ename": "AttributeError",
     "evalue": "type object 'pwskils4' has no attribute 'details'",
     "output_type": "error",
     "traceback": [
      "\u001b[0;31m---------------------------------------------------------------------------\u001b[0m",
      "\u001b[0;31mAttributeError\u001b[0m                            Traceback (most recent call last)",
      "Cell \u001b[0;32mIn[51], line 1\u001b[0m\n\u001b[0;32m----> 1\u001b[0m \u001b[43mpwskils4\u001b[49m\u001b[38;5;241;43m.\u001b[39;49m\u001b[43mdetails\u001b[49m\n",
      "\u001b[0;31mAttributeError\u001b[0m: type object 'pwskils4' has no attribute 'details'"
     ]
    }
   ],
   "source": [
    "pwskils4.details"
   ]
  },
  {
   "cell_type": "code",
   "execution_count": null,
   "id": "03eb7d39-dea8-4afa-b316-4f7845c8ce8b",
   "metadata": {},
   "outputs": [],
   "source": []
  }
 ],
 "metadata": {
  "kernelspec": {
   "display_name": "Python 3 (ipykernel)",
   "language": "python",
   "name": "python3"
  },
  "language_info": {
   "codemirror_mode": {
    "name": "ipython",
    "version": 3
   },
   "file_extension": ".py",
   "mimetype": "text/x-python",
   "name": "python",
   "nbconvert_exporter": "python",
   "pygments_lexer": "ipython3",
   "version": "3.10.8"
  }
 },
 "nbformat": 4,
 "nbformat_minor": 5
}
