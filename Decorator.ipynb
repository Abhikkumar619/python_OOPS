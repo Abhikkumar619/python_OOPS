{
 "cells": [
  {
   "cell_type": "code",
   "execution_count": 1,
   "id": "35a1532f-fb4b-4ab1-8526-26fad82d9efc",
   "metadata": {},
   "outputs": [],
   "source": [
    "def test():\n",
    "    print(\"This is mys starting of function\")\n",
    "    print(5+6)\n",
    "    print(\"This is my ending of the fucntion\")\n",
    "    "
   ]
  },
  {
   "cell_type": "code",
   "execution_count": 2,
   "id": "56fe2958-f623-4072-a04d-d7e10b87704e",
   "metadata": {},
   "outputs": [
    {
     "name": "stdout",
     "output_type": "stream",
     "text": [
      "This is mys starting of function\n",
      "11\n",
      "This is my ending of the fucntion\n"
     ]
    }
   ],
   "source": [
    "test()\n",
    "\n"
   ]
  },
  {
   "cell_type": "code",
   "execution_count": 7,
   "id": "e1b3ab65-472a-49f3-80d7-55ad0d200ebe",
   "metadata": {},
   "outputs": [],
   "source": [
    "def deco(fun):\n",
    "    def inner_dec():\n",
    "        print(\"This is my starting of function\")\n",
    "        fun()\n",
    "        print(\"This is my ending of function\")\n",
    "    return inner_dec"
   ]
  },
  {
   "cell_type": "code",
   "execution_count": 11,
   "id": "454d07fb-a3de-49d8-8a7f-db68789bf668",
   "metadata": {},
   "outputs": [],
   "source": [
    "@deco\n",
    "def test1():\n",
    "    print(6+3)"
   ]
  },
  {
   "cell_type": "code",
   "execution_count": 12,
   "id": "4472d788-e2e8-434c-aa18-5cfa1b54964e",
   "metadata": {},
   "outputs": [
    {
     "name": "stdout",
     "output_type": "stream",
     "text": [
      "This is my starting of function\n",
      "9\n",
      "This is my ending of function\n"
     ]
    }
   ],
   "source": [
    "test1()"
   ]
  },
  {
   "cell_type": "code",
   "execution_count": 13,
   "id": "b4fc4f41-5179-4686-a43e-36877d63a572",
   "metadata": {},
   "outputs": [],
   "source": [
    "import time\n",
    "def timer_test(fun):\n",
    "    def time_test_inner():\n",
    "        start=time.time()\n",
    "        fun()\n",
    "        end=time.time()\n",
    "        print(end-start)\n",
    "    return  time_test_inner"
   ]
  },
  {
   "cell_type": "code",
   "execution_count": 14,
   "id": "eb2d3612-cfb0-444d-8c87-6333eb0d7582",
   "metadata": {},
   "outputs": [],
   "source": [
    "\n",
    "def test2():\n",
    "    print(45+78)"
   ]
  },
  {
   "cell_type": "code",
   "execution_count": 15,
   "id": "3875b5b5-5a3b-4464-8d0d-a1ad207e7811",
   "metadata": {},
   "outputs": [
    {
     "name": "stdout",
     "output_type": "stream",
     "text": [
      "123\n"
     ]
    }
   ],
   "source": [
    "test2()"
   ]
  },
  {
   "cell_type": "code",
   "execution_count": 16,
   "id": "c0378d06-fa34-4301-8d8a-dfc50688baeb",
   "metadata": {},
   "outputs": [],
   "source": [
    "@timer_test\n",
    "def test3():\n",
    "    print(5+6)\n"
   ]
  },
  {
   "cell_type": "code",
   "execution_count": 17,
   "id": "972198a8-d570-4d6f-856b-5315f0958182",
   "metadata": {},
   "outputs": [
    {
     "name": "stdout",
     "output_type": "stream",
     "text": [
      "11\n",
      "4.220008850097656e-05\n"
     ]
    }
   ],
   "source": [
    "test3()"
   ]
  },
  {
   "cell_type": "code",
   "execution_count": 21,
   "id": "e8646d5f-d60a-4ec8-a2e6-3688f83e7829",
   "metadata": {},
   "outputs": [],
   "source": [
    "@timer_test\n",
    "def test4():\n",
    "    for i in range(124234):\n",
    "        pass"
   ]
  },
  {
   "cell_type": "code",
   "execution_count": 19,
   "id": "f782fb2b-9496-4741-a51f-edf26c8a56af",
   "metadata": {},
   "outputs": [
    {
     "name": "stdout",
     "output_type": "stream",
     "text": [
      "32.15953803062439\n"
     ]
    }
   ],
   "source": [
    "test4()"
   ]
  },
  {
   "cell_type": "code",
   "execution_count": 23,
   "id": "e56fc7f3-27a8-4fde-ad47-98637761cd3f",
   "metadata": {},
   "outputs": [],
   "source": [
    "import time\n",
    "def timer_test1(fun):\n",
    "    # def time_test_inner():\n",
    "    start=time.time()\n",
    "    fun()\n",
    "    end=time.time()\n",
    "    print(end-start)\n",
    "    return  timer_test1"
   ]
  },
  {
   "cell_type": "code",
   "execution_count": 27,
   "id": "2ed41b6f-8a2e-4cbd-a1e3-d731d54316b8",
   "metadata": {},
   "outputs": [
    {
     "name": "stdout",
     "output_type": "stream",
     "text": [
      "2.1457672119140625e-06\n"
     ]
    }
   ],
   "source": [
    "@timer_test1\n",
    "def test6():\n",
    "    for i in range(10):\n",
    "        pass"
   ]
  },
  {
   "cell_type": "code",
   "execution_count": null,
   "id": "435b82e3-0251-4e6b-bcfc-4d96f7ea5aaf",
   "metadata": {},
   "outputs": [],
   "source": []
  },
  {
   "cell_type": "code",
   "execution_count": null,
   "id": "24bd6ef4-6ae6-44b1-a4a6-202a6a4aaf37",
   "metadata": {},
   "outputs": [],
   "source": []
  }
 ],
 "metadata": {
  "kernelspec": {
   "display_name": "Python 3 (ipykernel)",
   "language": "python",
   "name": "python3"
  },
  "language_info": {
   "codemirror_mode": {
    "name": "ipython",
    "version": 3
   },
   "file_extension": ".py",
   "mimetype": "text/x-python",
   "name": "python",
   "nbconvert_exporter": "python",
   "pygments_lexer": "ipython3",
   "version": "3.10.8"
  }
 },
 "nbformat": 4,
 "nbformat_minor": 5
}
