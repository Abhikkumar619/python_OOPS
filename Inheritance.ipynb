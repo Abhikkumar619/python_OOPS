{
 "cells": [
  {
   "cell_type": "code",
   "execution_count": 8,
   "id": "786e55ef-c0f4-48e6-b229-e93e4fe9360f",
   "metadata": {},
   "outputs": [],
   "source": [
    "class test:\n",
    "    def test_class(self):\n",
    "        return \"This is my first class\"\n",
    "    "
   ]
  },
  {
   "cell_type": "code",
   "execution_count": 12,
   "id": "77e4d782-34af-4961-880e-fb3167e82058",
   "metadata": {},
   "outputs": [],
   "source": [
    "class chlid_test(test):\n",
    "    pass"
   ]
  },
  {
   "cell_type": "code",
   "execution_count": 15,
   "id": "2c85e0f8-6733-4e6b-be28-86045232455f",
   "metadata": {},
   "outputs": [],
   "source": [
    "obj =  chlid_test()\n"
   ]
  },
  {
   "cell_type": "code",
   "execution_count": 16,
   "id": "60328457-44a0-4a74-871e-496c000800b3",
   "metadata": {},
   "outputs": [
    {
     "data": {
      "text/plain": [
       "'This is my first class'"
      ]
     },
     "execution_count": 16,
     "metadata": {},
     "output_type": "execute_result"
    }
   ],
   "source": [
    "obj.test_class()"
   ]
  },
  {
   "cell_type": "code",
   "execution_count": 17,
   "id": "7e8587b6-8927-4b3a-9155-72258b0ce40f",
   "metadata": {},
   "outputs": [],
   "source": [
    "## multilevel inheritance: \n",
    "class class1:\n",
    "    def test_class(self):\n",
    "        return \"this is my class1\"\n"
   ]
  },
  {
   "cell_type": "code",
   "execution_count": 18,
   "id": "25f379a1-6e48-483d-86ec-0baa5f479ef2",
   "metadata": {},
   "outputs": [],
   "source": [
    "class class2(class1):\n",
    "    def test_class2(self):\n",
    "        return \"This is the method from class2\"\n",
    "    \n",
    "    "
   ]
  },
  {
   "cell_type": "code",
   "execution_count": 19,
   "id": "73c06d34-5dbd-47bc-addd-fda78f8ff5dd",
   "metadata": {},
   "outputs": [],
   "source": [
    "class class3(class2):\n",
    "    pass\n",
    "\n",
    "    "
   ]
  },
  {
   "cell_type": "code",
   "execution_count": 20,
   "id": "51497b95-2c7f-44ee-bedf-2215f2217284",
   "metadata": {},
   "outputs": [],
   "source": [
    "obj_class3=class3()"
   ]
  },
  {
   "cell_type": "code",
   "execution_count": 21,
   "id": "b006f232-6a3e-4c30-947b-bb74186657e0",
   "metadata": {},
   "outputs": [
    {
     "data": {
      "text/plain": [
       "'this is my class1'"
      ]
     },
     "execution_count": 21,
     "metadata": {},
     "output_type": "execute_result"
    }
   ],
   "source": [
    "obj_class3.test_class()"
   ]
  },
  {
   "cell_type": "code",
   "execution_count": 22,
   "id": "34735324-5cb9-4de6-a8bc-fd2a6e78389d",
   "metadata": {},
   "outputs": [
    {
     "data": {
      "text/plain": [
       "'This is the method from class2'"
      ]
     },
     "execution_count": 22,
     "metadata": {},
     "output_type": "execute_result"
    }
   ],
   "source": [
    "obj_class3.test_class2()  #this is my multilevel inheritance."
   ]
  },
  {
   "cell_type": "code",
   "execution_count": 23,
   "id": "506d4ce5-7155-4397-ae43-0a59e0adf97b",
   "metadata": {},
   "outputs": [],
   "source": [
    "# multiple inheritance."
   ]
  },
  {
   "cell_type": "code",
   "execution_count": 32,
   "id": "432348e4-40a9-4104-813c-eee730215d7a",
   "metadata": {},
   "outputs": [],
   "source": [
    "class class1:\n",
    "    def test_class1():\n",
    "        return \"This is my class1\"\n"
   ]
  },
  {
   "cell_type": "code",
   "execution_count": 33,
   "id": "1aecaa5f-3a69-42df-a70c-181ef278d004",
   "metadata": {},
   "outputs": [],
   "source": [
    "class class2:\n",
    "    def test_class2():\n",
    "        return \"THis is class 2\""
   ]
  },
  {
   "cell_type": "code",
   "execution_count": 34,
   "id": "0d288dfa-347f-4de6-85dc-a1f80a5c6e1c",
   "metadata": {},
   "outputs": [],
   "source": [
    "class class3(class1, class2):\n",
    "    pass"
   ]
  },
  {
   "cell_type": "code",
   "execution_count": 39,
   "id": "b84a6db4-1466-428e-ad22-ce5ee5e1ca69",
   "metadata": {},
   "outputs": [],
   "source": [
    "obj=class3()"
   ]
  },
  {
   "cell_type": "code",
   "execution_count": 40,
   "id": "dd139ed7-9616-4bee-a9a1-b2d8fb1c496b",
   "metadata": {},
   "outputs": [
    {
     "ename": "TypeError",
     "evalue": "class2.test_class2() takes 0 positional arguments but 1 was given",
     "output_type": "error",
     "traceback": [
      "\u001b[0;31m---------------------------------------------------------------------------\u001b[0m",
      "\u001b[0;31mTypeError\u001b[0m                                 Traceback (most recent call last)",
      "Cell \u001b[0;32mIn[40], line 1\u001b[0m\n\u001b[0;32m----> 1\u001b[0m \u001b[43mobj\u001b[49m\u001b[38;5;241;43m.\u001b[39;49m\u001b[43mtest_class2\u001b[49m\u001b[43m(\u001b[49m\u001b[43m)\u001b[49m\n",
      "\u001b[0;31mTypeError\u001b[0m: class2.test_class2() takes 0 positional arguments but 1 was given"
     ]
    }
   ],
   "source": [
    "obj.test_class2()\n"
   ]
  },
  {
   "cell_type": "code",
   "execution_count": null,
   "id": "0c3d05b2-1f36-43fe-a931-4724d6c25906",
   "metadata": {},
   "outputs": [],
   "source": []
  }
 ],
 "metadata": {
  "kernelspec": {
   "display_name": "Python 3 (ipykernel)",
   "language": "python",
   "name": "python3"
  },
  "language_info": {
   "codemirror_mode": {
    "name": "ipython",
    "version": 3
   },
   "file_extension": ".py",
   "mimetype": "text/x-python",
   "name": "python",
   "nbconvert_exporter": "python",
   "pygments_lexer": "ipython3",
   "version": "3.10.8"
  }
 },
 "nbformat": 4,
 "nbformat_minor": 5
}
