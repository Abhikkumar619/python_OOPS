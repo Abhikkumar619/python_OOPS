{
 "cells": [
  {
   "cell_type": "code",
   "execution_count": 2,
   "id": "ab321274-23aa-4bd2-83d9-e39ddde73c9a",
   "metadata": {},
   "outputs": [],
   "source": [
    "class test:\n",
    "    def __init__(self, a,b):\n",
    "        self.a=a\n",
    "        self.b=b\n",
    "        "
   ]
  },
  {
   "cell_type": "code",
   "execution_count": 4,
   "id": "e2b43f7d-a5fe-40d2-8b9d-072fb44bea2f",
   "metadata": {},
   "outputs": [],
   "source": [
    "obj=test(23,43)  # here we pass value a, b "
   ]
  },
  {
   "cell_type": "code",
   "execution_count": 5,
   "id": "b2a25b25-fadd-44f5-afad-3780261ce228",
   "metadata": {},
   "outputs": [],
   "source": [
    "obj.a=54"
   ]
  },
  {
   "cell_type": "code",
   "execution_count": 6,
   "id": "a7a07647-6307-462e-b87e-f2fbf3d67edb",
   "metadata": {},
   "outputs": [
    {
     "data": {
      "text/plain": [
       "54"
      ]
     },
     "execution_count": 6,
     "metadata": {},
     "output_type": "execute_result"
    }
   ],
   "source": [
    "obj.a\n"
   ]
  },
  {
   "cell_type": "code",
   "execution_count": 22,
   "id": "815e490b-38c3-4713-8d7a-6c72c12797b3",
   "metadata": {},
   "outputs": [],
   "source": [
    "class car:\n",
    "    def __init__(self, year, make, model, speed):\n",
    "        self.__year=year\n",
    "        self.__make=make\n",
    "        self.__model=model\n",
    "        self.__speed=speed\n",
    "        \n",
    "    def set_speed(self, speed):\n",
    "        self.__speed=0 if speed < 0 else speed\n",
    "        \n",
    "    def get_speed(self):\n",
    "        return self.__speed\n",
    "        \n",
    "        \n",
    "        \n",
    "        "
   ]
  },
  {
   "cell_type": "code",
   "execution_count": 23,
   "id": "441f290f-9246-4936-9b1a-c7f197343986",
   "metadata": {},
   "outputs": [],
   "source": [
    "s=car(2020, 'tesla', 'model3', 100)"
   ]
  },
  {
   "cell_type": "code",
   "execution_count": 24,
   "id": "7aedd287-badf-4715-a253-45f52a25349d",
   "metadata": {},
   "outputs": [
    {
     "ename": "AttributeError",
     "evalue": "'car' object has no attribute 'year'",
     "output_type": "error",
     "traceback": [
      "\u001b[0;31m---------------------------------------------------------------------------\u001b[0m",
      "\u001b[0;31mAttributeError\u001b[0m                            Traceback (most recent call last)",
      "Cell \u001b[0;32mIn[24], line 1\u001b[0m\n\u001b[0;32m----> 1\u001b[0m \u001b[43ms\u001b[49m\u001b[38;5;241;43m.\u001b[39;49m\u001b[43myear\u001b[49m\n",
      "\u001b[0;31mAttributeError\u001b[0m: 'car' object has no attribute 'year'"
     ]
    }
   ],
   "source": [
    "s.year"
   ]
  },
  {
   "cell_type": "code",
   "execution_count": 25,
   "id": "52256564-6a7f-4f1b-984f-29362917b5f1",
   "metadata": {},
   "outputs": [
    {
     "ename": "AttributeError",
     "evalue": "'car' object has no attribute '__year'",
     "output_type": "error",
     "traceback": [
      "\u001b[0;31m---------------------------------------------------------------------------\u001b[0m",
      "\u001b[0;31mAttributeError\u001b[0m                            Traceback (most recent call last)",
      "Cell \u001b[0;32mIn[25], line 1\u001b[0m\n\u001b[0;32m----> 1\u001b[0m \u001b[43ms\u001b[49m\u001b[38;5;241;43m.\u001b[39;49m\u001b[43m__year\u001b[49m\n",
      "\u001b[0;31mAttributeError\u001b[0m: 'car' object has no attribute '__year'"
     ]
    }
   ],
   "source": [
    "s.__year"
   ]
  },
  {
   "cell_type": "code",
   "execution_count": 26,
   "id": "2ef00343-1e77-42b2-b84a-ca24facecd74",
   "metadata": {},
   "outputs": [
    {
     "data": {
      "text/plain": [
       "2020"
      ]
     },
     "execution_count": 26,
     "metadata": {},
     "output_type": "execute_result"
    }
   ],
   "source": [
    "s._car__year"
   ]
  },
  {
   "cell_type": "code",
   "execution_count": 28,
   "id": "1e6ff7f0-b169-4dab-88db-1e0ac853d5ed",
   "metadata": {},
   "outputs": [],
   "source": [
    "s.set_speed(-34)"
   ]
  },
  {
   "cell_type": "code",
   "execution_count": 29,
   "id": "586d71c8-8db4-4fec-ace0-295a2ea35ca5",
   "metadata": {},
   "outputs": [
    {
     "data": {
      "text/plain": [
       "0"
      ]
     },
     "execution_count": 29,
     "metadata": {},
     "output_type": "execute_result"
    }
   ],
   "source": [
    "s.get_speed()"
   ]
  },
  {
   "cell_type": "code",
   "execution_count": 30,
   "id": "111250fc-6ed7-4638-9c78-e9c44afb94c7",
   "metadata": {},
   "outputs": [],
   "source": [
    "s.set_speed(56)"
   ]
  },
  {
   "cell_type": "code",
   "execution_count": 31,
   "id": "493949c1-39be-429b-a16f-14423f7e4544",
   "metadata": {},
   "outputs": [
    {
     "data": {
      "text/plain": [
       "56"
      ]
     },
     "execution_count": 31,
     "metadata": {},
     "output_type": "execute_result"
    }
   ],
   "source": [
    "s.get_speed()"
   ]
  },
  {
   "cell_type": "code",
   "execution_count": 50,
   "id": "7adbe70d-3d4c-4ffc-a5a6-1c03aab79fd0",
   "metadata": {},
   "outputs": [],
   "source": [
    "class bank_account:\n",
    "    def __init__(self, balance):\n",
    "        self.__balance=balance\n",
    "        \n",
    "    def deposit(self, amount):\n",
    "            self.__balance=self.__balance+amount\n",
    "            print(\"deposit secessfully_\")\n",
    "            \n",
    "    def withdraw(self, amount):\n",
    "        if self.__balance>=amount:\n",
    "            self.__balance=self.__balance-amount\n",
    "            print(\"sucessFully withdraw amount: \", amount)\n",
    "            return True\n",
    "        else:\n",
    "            print(\"_No sufficent amount_\")\n",
    "            return False\n",
    "    def get_balance(self):\n",
    "        return self.__balance\n",
    "        "
   ]
  },
  {
   "cell_type": "code",
   "execution_count": 51,
   "id": "88b7efc8-5bd1-45e3-a80f-6c30c16808ae",
   "metadata": {},
   "outputs": [],
   "source": [
    "abhik=bank_account(1000)"
   ]
  },
  {
   "cell_type": "code",
   "execution_count": 52,
   "id": "f9d416ac-dec1-43fb-9663-34aa52c3701d",
   "metadata": {},
   "outputs": [
    {
     "data": {
      "text/plain": [
       "1000"
      ]
     },
     "execution_count": 52,
     "metadata": {},
     "output_type": "execute_result"
    }
   ],
   "source": [
    "abhik.get_balance()"
   ]
  },
  {
   "cell_type": "code",
   "execution_count": 53,
   "id": "2b9e64b1-bbee-4ef2-9b93-b7273087966b",
   "metadata": {},
   "outputs": [
    {
     "name": "stdout",
     "output_type": "stream",
     "text": [
      "deposit secessfully_\n"
     ]
    }
   ],
   "source": [
    "abhik.deposit(500)\n"
   ]
  },
  {
   "cell_type": "code",
   "execution_count": 54,
   "id": "70fd418d-3dd6-4872-b762-27f50e71d36f",
   "metadata": {},
   "outputs": [
    {
     "data": {
      "text/plain": [
       "1500"
      ]
     },
     "execution_count": 54,
     "metadata": {},
     "output_type": "execute_result"
    }
   ],
   "source": [
    "abhik.get_balance()"
   ]
  },
  {
   "cell_type": "code",
   "execution_count": 55,
   "id": "bf2a7775-44a0-4909-a214-d32aa2db1c19",
   "metadata": {},
   "outputs": [
    {
     "name": "stdout",
     "output_type": "stream",
     "text": [
      "sucessFully withdraw amount:  1200\n"
     ]
    },
    {
     "data": {
      "text/plain": [
       "True"
      ]
     },
     "execution_count": 55,
     "metadata": {},
     "output_type": "execute_result"
    }
   ],
   "source": [
    "abhik.withdraw(1200)"
   ]
  },
  {
   "cell_type": "code",
   "execution_count": null,
   "id": "36a72551-7027-49f3-9304-348f34b6f8c2",
   "metadata": {},
   "outputs": [],
   "source": []
  }
 ],
 "metadata": {
  "kernelspec": {
   "display_name": "Python 3 (ipykernel)",
   "language": "python",
   "name": "python3"
  },
  "language_info": {
   "codemirror_mode": {
    "name": "ipython",
    "version": 3
   },
   "file_extension": ".py",
   "mimetype": "text/x-python",
   "name": "python",
   "nbconvert_exporter": "python",
   "pygments_lexer": "ipython3",
   "version": "3.10.8"
  }
 },
 "nbformat": 4,
 "nbformat_minor": 5
}
