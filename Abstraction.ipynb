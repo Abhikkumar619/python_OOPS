{
 "cells": [
  {
   "cell_type": "code",
   "execution_count": 3,
   "id": "5fa694a0-6401-4ad6-afe2-e7d8c54b32e8",
   "metadata": {},
   "outputs": [],
   "source": [
    "# Abstract method.\n",
    "#The method which only has a declaration but not a defination is called abastact method.\n",
    "#The class which have abstract methods is abstract classes.\n",
    "# by defult python does not support abstract classes.\n",
    "# Aslo we cannot create the object of abstract classes.\n",
    "\n",
    "# To make abstract classes we have to import module called form abc impirt ABC, abstractmethod.\n"
   ]
  },
  {
   "cell_type": "code",
   "execution_count": 4,
   "id": "616baaf1-9fb0-4709-b972-3b4fc19d074e",
   "metadata": {},
   "outputs": [],
   "source": [
    "# The objective of abstract class is to not allow the parent class of object."
   ]
  },
  {
   "cell_type": "code",
   "execution_count": 5,
   "id": "1cfa4743-bd00-4d41-a48d-c4855a181ae2",
   "metadata": {},
   "outputs": [],
   "source": [
    "from abc import ABC,abstractmethod\n",
    "class shape(ABC):\n",
    "    @abstractmethod\n",
    "    def area(slef):\n",
    "        pass\n",
    "    def perimeter(slef):\n",
    "        pass\n",
    "    \n"
   ]
  },
  {
   "cell_type": "code",
   "execution_count": 19,
   "id": "5dfe2dc3-c500-44f3-9989-ac702c90334c",
   "metadata": {},
   "outputs": [],
   "source": [
    "class square(shape):\n",
    "    def __init__(self,s):\n",
    "        self.side=s\n",
    "    def area(self):\n",
    "        return self.side*self.side\n",
    "    def perimeter(self):\n",
    "        return 4*self.side\n",
    "        "
   ]
  },
  {
   "cell_type": "code",
   "execution_count": 20,
   "id": "d9d005b2-2f31-41e5-bcf9-eb639802f223",
   "metadata": {},
   "outputs": [],
   "source": [
    "sq=square(4)"
   ]
  },
  {
   "cell_type": "code",
   "execution_count": 21,
   "id": "72e15649-988b-48c9-b8e4-792353aa0492",
   "metadata": {},
   "outputs": [
    {
     "data": {
      "text/plain": [
       "16"
      ]
     },
     "execution_count": 21,
     "metadata": {},
     "output_type": "execute_result"
    }
   ],
   "source": [
    "sq.area()"
   ]
  },
  {
   "cell_type": "code",
   "execution_count": 22,
   "id": "72fe6bf8-a028-4d9b-91b5-93e673a19dda",
   "metadata": {},
   "outputs": [
    {
     "data": {
      "text/plain": [
       "16"
      ]
     },
     "execution_count": 22,
     "metadata": {},
     "output_type": "execute_result"
    }
   ],
   "source": [
    "sq.perimeter()"
   ]
  },
  {
   "cell_type": "code",
   "execution_count": null,
   "id": "a941e122-6836-407d-b16e-a8123a1de761",
   "metadata": {},
   "outputs": [],
   "source": []
  }
 ],
 "metadata": {
  "kernelspec": {
   "display_name": "Python 3 (ipykernel)",
   "language": "python",
   "name": "python3"
  },
  "language_info": {
   "codemirror_mode": {
    "name": "ipython",
    "version": 3
   },
   "file_extension": ".py",
   "mimetype": "text/x-python",
   "name": "python",
   "nbconvert_exporter": "python",
   "pygments_lexer": "ipython3",
   "version": "3.10.8"
  }
 },
 "nbformat": 4,
 "nbformat_minor": 5
}
