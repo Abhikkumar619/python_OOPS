{
 "cells": [
  {
   "cell_type": "code",
   "execution_count": 1,
   "id": "57b38325-0b35-476a-93f9-2c3143a78845",
   "metadata": {},
   "outputs": [],
   "source": [
    "def test(a,b):\n",
    "    return a+b\n"
   ]
  },
  {
   "cell_type": "code",
   "execution_count": 2,
   "id": "7a06de70-ccb0-4d52-a499-0a518580a1ab",
   "metadata": {},
   "outputs": [
    {
     "data": {
      "text/plain": [
       "11"
      ]
     },
     "execution_count": 2,
     "metadata": {},
     "output_type": "execute_result"
    }
   ],
   "source": [
    "test(5,6)"
   ]
  },
  {
   "cell_type": "code",
   "execution_count": 3,
   "id": "ba053c0f-980a-4f93-a42b-2822c3e32f0d",
   "metadata": {},
   "outputs": [
    {
     "data": {
      "text/plain": [
       "'abishekkumar'"
      ]
     },
     "execution_count": 3,
     "metadata": {},
     "output_type": "execute_result"
    }
   ],
   "source": [
    "test(\"abishek\", \"kumar\")"
   ]
  },
  {
   "cell_type": "code",
   "execution_count": 5,
   "id": "b968dc4a-e924-4a82-9596-430976d9b120",
   "metadata": {},
   "outputs": [
    {
     "data": {
      "text/plain": [
       "['a', 'b', 1, 2]"
      ]
     },
     "execution_count": 5,
     "metadata": {},
     "output_type": "execute_result"
    }
   ],
   "source": [
    "test(['a','b'],[1,2])"
   ]
  },
  {
   "cell_type": "code",
   "execution_count": 6,
   "id": "4151b9cc-9c51-435d-af54-089d2f1e7d90",
   "metadata": {},
   "outputs": [],
   "source": [
    "class datascience:\n",
    "    def syllabus(self):\n",
    "        print(\"This is my syllabus for data science master\")\n",
    "        "
   ]
  },
  {
   "cell_type": "code",
   "execution_count": 7,
   "id": "1f4a7150-0213-47bb-a899-9ac1024c3fc0",
   "metadata": {},
   "outputs": [],
   "source": [
    "class web_dev:\n",
    "    def syllabus(self):\n",
    "        print(\"this is my syllabus for web dev\")"
   ]
  },
  {
   "cell_type": "code",
   "execution_count": 8,
   "id": "5400abee-a3c8-4be8-8912-a621be04644f",
   "metadata": {},
   "outputs": [],
   "source": [
    "def class_parcer(class_obj):\n",
    "    for i in class_obj:\n",
    "        i.syllabus()\n",
    "        \n",
    "        \n",
    "    "
   ]
  },
  {
   "cell_type": "code",
   "execution_count": 9,
   "id": "d9477a45-9873-4d71-b73e-05df5620a270",
   "metadata": {},
   "outputs": [],
   "source": [
    "data_sc=datascience()\n"
   ]
  },
  {
   "cell_type": "code",
   "execution_count": 11,
   "id": "c550d551-6401-47d1-bafe-72325fbd5298",
   "metadata": {},
   "outputs": [],
   "source": [
    "web_d=web_dev()"
   ]
  },
  {
   "cell_type": "code",
   "execution_count": 12,
   "id": "ad172dd9-47a9-4d29-80a2-de7a8fed5e60",
   "metadata": {},
   "outputs": [],
   "source": [
    "class_obj=[data_sc, web_d]"
   ]
  },
  {
   "cell_type": "code",
   "execution_count": 13,
   "id": "fd264763-44ce-498b-8833-7dc8928f5c2b",
   "metadata": {},
   "outputs": [
    {
     "name": "stdout",
     "output_type": "stream",
     "text": [
      "This is my syllabus for data science master\n",
      "this is my syllabus for web dev\n"
     ]
    }
   ],
   "source": [
    "class_parcer(class_obj)"
   ]
  },
  {
   "cell_type": "code",
   "execution_count": null,
   "id": "e7b59bf2-4748-4e19-b8b1-49aa5d7bd4aa",
   "metadata": {},
   "outputs": [],
   "source": []
  }
 ],
 "metadata": {
  "kernelspec": {
   "display_name": "Python 3 (ipykernel)",
   "language": "python",
   "name": "python3"
  },
  "language_info": {
   "codemirror_mode": {
    "name": "ipython",
    "version": 3
   },
   "file_extension": ".py",
   "mimetype": "text/x-python",
   "name": "python",
   "nbconvert_exporter": "python",
   "pygments_lexer": "ipython3",
   "version": "3.10.8"
  }
 },
 "nbformat": 4,
 "nbformat_minor": 5
}
