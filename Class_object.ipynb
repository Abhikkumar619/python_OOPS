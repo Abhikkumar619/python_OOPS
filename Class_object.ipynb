{
 "cells": [
  {
   "cell_type": "code",
   "execution_count": 1,
   "id": "483b4004-e169-4b96-86d5-0afe43d066f7",
   "metadata": {},
   "outputs": [],
   "source": [
    "a=1"
   ]
  },
  {
   "cell_type": "code",
   "execution_count": 2,
   "id": "4677e544-e777-4a36-bf97-b7124efcbceb",
   "metadata": {},
   "outputs": [
    {
     "name": "stdout",
     "output_type": "stream",
     "text": [
      "<class 'int'>\n"
     ]
    }
   ],
   "source": [
    "print(type(a))"
   ]
  },
  {
   "cell_type": "code",
   "execution_count": 1,
   "id": "8508e36b-efa1-48d2-9f39-b8ddde8f1557",
   "metadata": {},
   "outputs": [
    {
     "ename": "SyntaxError",
     "evalue": "incomplete input (2555456532.py, line 1)",
     "output_type": "error",
     "traceback": [
      "\u001b[0;36m  Cell \u001b[0;32mIn[1], line 1\u001b[0;36m\u001b[0m\n\u001b[0;31m    class test:\u001b[0m\n\u001b[0m                ^\u001b[0m\n\u001b[0;31mSyntaxError\u001b[0m\u001b[0;31m:\u001b[0m incomplete input\n"
     ]
    }
   ],
   "source": [
    "class test: "
   ]
  },
  {
   "cell_type": "code",
   "execution_count": 2,
   "id": "4a628f88-7cde-4ec6-baf0-36b5f15cb13d",
   "metadata": {},
   "outputs": [],
   "source": [
    "class test:\n",
    "    pass\n"
   ]
  },
  {
   "cell_type": "code",
   "execution_count": 3,
   "id": "bf0c758b-dd89-43cf-92d7-b73e0c6d118f",
   "metadata": {},
   "outputs": [],
   "source": [
    "a=test()"
   ]
  },
  {
   "cell_type": "code",
   "execution_count": 4,
   "id": "6f625451-556f-4c40-8126-dfad405e8ec9",
   "metadata": {},
   "outputs": [
    {
     "data": {
      "text/plain": [
       "__main__.test"
      ]
     },
     "execution_count": 4,
     "metadata": {},
     "output_type": "execute_result"
    }
   ],
   "source": [
    "type(a)"
   ]
  },
  {
   "cell_type": "code",
   "execution_count": 5,
   "id": "a716c71a-a024-4c81-a06f-96157ba4d6bc",
   "metadata": {},
   "outputs": [
    {
     "name": "stdout",
     "output_type": "stream",
     "text": [
      "<class '__main__.test'>\n"
     ]
    }
   ],
   "source": [
    "print(type(a))"
   ]
  },
  {
   "cell_type": "code",
   "execution_count": 13,
   "id": "96f3f416-48ba-4ec6-bc0a-57533a49d2a9",
   "metadata": {},
   "outputs": [],
   "source": [
    "class pwskils:\n",
    "    def wellcome_msg(self): # self is used to bind the method with class.\n",
    "        print(\"welcome to pwskils\")"
   ]
  },
  {
   "cell_type": "code",
   "execution_count": 14,
   "id": "94d938ce-0347-443b-9127-0f2a61c38df4",
   "metadata": {},
   "outputs": [],
   "source": [
    "abhik=pwskils()  # object of class or variable or instance."
   ]
  },
  {
   "cell_type": "code",
   "execution_count": 15,
   "id": "0a583807-4ddc-416f-aaea-691d2f4171e5",
   "metadata": {},
   "outputs": [
    {
     "name": "stdout",
     "output_type": "stream",
     "text": [
      "<class '__main__.pwskils'>\n"
     ]
    }
   ],
   "source": [
    "print(type(abhik))"
   ]
  },
  {
   "cell_type": "code",
   "execution_count": 16,
   "id": "a6c7f5cd-cf85-4b28-8fdb-b6b83bc99979",
   "metadata": {},
   "outputs": [
    {
     "name": "stdout",
     "output_type": "stream",
     "text": [
      "welcome to pwskils\n"
     ]
    }
   ],
   "source": [
    "abhik.wellcome_msg()  #calling function inside class.using dot oerator."
   ]
  },
  {
   "cell_type": "code",
   "execution_count": 17,
   "id": "f7ba0afd-decd-433c-a10d-27d91af568c9",
   "metadata": {},
   "outputs": [],
   "source": [
    "boss=pwskils()"
   ]
  },
  {
   "cell_type": "code",
   "execution_count": 18,
   "id": "10b0470b-36f1-4927-9d38-0a70a0261418",
   "metadata": {},
   "outputs": [
    {
     "name": "stdout",
     "output_type": "stream",
     "text": [
      "welcome to pwskils\n"
     ]
    }
   ],
   "source": [
    "boss.wellcome_msg()"
   ]
  },
  {
   "cell_type": "code",
   "execution_count": 19,
   "id": "9917e20a-2b2e-4e43-ba19-283073843eb2",
   "metadata": {},
   "outputs": [],
   "source": [
    "class pwskils1:\n",
    "    \n",
    "    def __init__(self,phone_number, email_id, student_id):  #constructor\n",
    "        self.phone_number=phone_number  #self is used to bind the variable with class\n",
    "        self.email_id=email_id\n",
    "        self.student_id=student_id\n",
    "    \n",
    "    def return_student_datails(self):\n",
    "        return self.student_id, self.phone_number, self.email_id"
   ]
  },
  {
   "cell_type": "code",
   "execution_count": 21,
   "id": "13f1c540-7785-41b2-b4cf-4cfbe7fcd6a5",
   "metadata": {},
   "outputs": [
    {
     "ename": "TypeError",
     "evalue": "pwskils1.__init__() missing 3 required positional arguments: 'phone_number', 'email_id', and 'student_id'",
     "output_type": "error",
     "traceback": [
      "\u001b[0;31m---------------------------------------------------------------------------\u001b[0m",
      "\u001b[0;31mTypeError\u001b[0m                                 Traceback (most recent call last)",
      "Cell \u001b[0;32mIn[21], line 1\u001b[0m\n\u001b[0;32m----> 1\u001b[0m abhik1\u001b[38;5;241m=\u001b[39m\u001b[43mpwskils1\u001b[49m\u001b[43m(\u001b[49m\u001b[43m)\u001b[49m \u001b[38;5;66;03m# object of class pwskils.\u001b[39;00m\n",
      "\u001b[0;31mTypeError\u001b[0m: pwskils1.__init__() missing 3 required positional arguments: 'phone_number', 'email_id', and 'student_id'"
     ]
    }
   ],
   "source": [
    "abhik=pwskils1() # object of class pwskils."
   ]
  },
  {
   "cell_type": "code",
   "execution_count": 23,
   "id": "85cffdd0-24fd-4cd7-9440-f374dad6a79c",
   "metadata": {},
   "outputs": [],
   "source": [
    "abhik=pwskils1(9817700000, \"abhik@gmail.com\", 8401)"
   ]
  },
  {
   "cell_type": "code",
   "execution_count": 24,
   "id": "3324bdff-4c40-4a1a-b883-a575a9af81a2",
   "metadata": {},
   "outputs": [
    {
     "data": {
      "text/plain": [
       "(8401, 9817700000, 'abhik@gmail.com')"
      ]
     },
     "execution_count": 24,
     "metadata": {},
     "output_type": "execute_result"
    }
   ],
   "source": [
    "abhik.return_student_datails()"
   ]
  },
  {
   "cell_type": "code",
   "execution_count": 26,
   "id": "5c14e815-304c-4309-83ca-66d594a26ff2",
   "metadata": {},
   "outputs": [],
   "source": [
    "susb=pwskils1(9817786006, \"ss@gmail.com\",404)"
   ]
  },
  {
   "cell_type": "code",
   "execution_count": 28,
   "id": "35da1499-8a4d-408b-9773-453003911000",
   "metadata": {},
   "outputs": [
    {
     "data": {
      "text/plain": [
       "(404, 9817786006, 'ss@gmail.com')"
      ]
     },
     "execution_count": 28,
     "metadata": {},
     "output_type": "execute_result"
    }
   ],
   "source": [
    "susb.return_student_datails()"
   ]
  },
  {
   "cell_type": "code",
   "execution_count": 29,
   "id": "bc83e724-6ada-4874-b190-57504601ecb6",
   "metadata": {},
   "outputs": [
    {
     "data": {
      "text/plain": [
       "'abhik@gmail.com'"
      ]
     },
     "execution_count": 29,
     "metadata": {},
     "output_type": "execute_result"
    }
   ],
   "source": [
    "abhik.email_id"
   ]
  },
  {
   "cell_type": "code",
   "execution_count": 30,
   "id": "ad643b0b-c636-42b3-891b-a0af14725630",
   "metadata": {},
   "outputs": [
    {
     "data": {
      "text/plain": [
       "9817700000"
      ]
     },
     "execution_count": 30,
     "metadata": {},
     "output_type": "execute_result"
    }
   ],
   "source": [
    "abhik.phone_number"
   ]
  },
  {
   "cell_type": "code",
   "execution_count": null,
   "id": "9d4e0e61-0529-421c-a2f3-976fa30ddad0",
   "metadata": {},
   "outputs": [],
   "source": [
    "#Basically we self is not keyword, we can use any name to bind with class."
   ]
  }
 ],
 "metadata": {
  "kernelspec": {
   "display_name": "Python 3 (ipykernel)",
   "language": "python",
   "name": "python3"
  },
  "language_info": {
   "codemirror_mode": {
    "name": "ipython",
    "version": 3
   },
   "file_extension": ".py",
   "mimetype": "text/x-python",
   "name": "python",
   "nbconvert_exporter": "python",
   "pygments_lexer": "ipython3",
   "version": "3.10.8"
  }
 },
 "nbformat": 4,
 "nbformat_minor": 5
}
